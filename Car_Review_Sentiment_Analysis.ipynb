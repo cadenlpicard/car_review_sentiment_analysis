{
  "nbformat": 4,
  "nbformat_minor": 0,
  "metadata": {
    "colab": {
      "provenance": [],
      "authorship_tag": "ABX9TyNWoOCgMwWvQTOhYvAUrELt",
      "include_colab_link": true
    },
    "kernelspec": {
      "name": "python3",
      "display_name": "Python 3"
    },
    "language_info": {
      "name": "python"
    }
  },
  "cells": [
    {
      "cell_type": "markdown",
      "metadata": {
        "id": "view-in-github",
        "colab_type": "text"
      },
      "source": [
        "<a href=\"https://colab.research.google.com/github/cadenlpicard/car_review_sentiment_analysis/blob/main/Car_Review_Sentiment_Analysis.ipynb\" target=\"_parent\"><img src=\"https://colab.research.google.com/assets/colab-badge.svg\" alt=\"Open In Colab\"/></a>"
      ]
    },
    {
      "cell_type": "code",
      "execution_count": null,
      "metadata": {
        "id": "ogmtZ1R5IavX"
      },
      "outputs": [],
      "source": [
        "import pandas as pd\n",
        "import numpy as np\n",
        "import tensorflow as tf\n",
        "from tensorflow.keras.preprocessing.text import Tokenizer\n",
        "from tensorflow.keras.preprocessing.sequence import pad_sequences\n",
        "from tensorflow.keras.models import Sequential\n",
        "from tensorflow.keras.layers import Embedding, LSTM, Dense, Dropout, Bidirectional\n",
        "from sklearn.model_selection import train_test_split\n",
        "from sklearn.utils import class_weight\n",
        "from sklearn.metrics import classification_report, accuracy_score\n",
        "from tensorflow.keras.utils import to_categorical\n",
        "\n",
        "# Load training data\n",
        "train_data = pd.read_excel('/content/drive/MyDrive/Machine Learning/Competitions/car_review_sentiment/input/Train_data.xlsx')  # Replace with the path to your training data .xlsx file\n",
        "\n",
        "# Preprocess training data\n",
        "train_data = train_data.dropna()  # Remove rows with missing values\n",
        "texts = train_data['Review'].astype(str).values  # Extract reviews\n",
        "labels = train_data['Target'].values  # Extract labels (0: Negative, 1: Neutral, 2: Positive)\n",
        "\n",
        "# Convert labels to categorical (one-hot encoding)\n",
        "labels = to_categorical(labels, num_classes=3)\n",
        "\n",
        "# Tokenize the text\n",
        "max_words = 5000  # Maximum number of words to keep in the vocabulary\n",
        "max_len = 100  # Maximum length of a review after padding\n",
        "tokenizer = Tokenizer(num_words=max_words, oov_token=\"<OOV>\")\n",
        "tokenizer.fit_on_texts(texts)\n",
        "sequences = tokenizer.texts_to_sequences(texts)\n",
        "padded_sequences = pad_sequences(sequences, maxlen=max_len, padding='post', truncating='post')\n",
        "\n",
        "# Split data into training and validation sets\n",
        "X_train, X_val, y_train, y_val = train_test_split(padded_sequences, labels, test_size=0.2, random_state=42)\n",
        "\n",
        "# Calculate class weights to handle imbalance\n",
        "class_weights = class_weight.compute_class_weight('balanced', classes=np.unique(train_data['Target']), y=train_data['Target'])\n",
        "class_weights_dict = dict(enumerate(class_weights))\n",
        "\n",
        "# Build a more complex model with Bidirectional LSTM\n",
        "model = Sequential([\n",
        "    Embedding(input_dim=max_words, output_dim=64, input_length=max_len),\n",
        "    Bidirectional(LSTM(64, return_sequences=True)),\n",
        "    Dropout(0.5),\n",
        "    LSTM(32),\n",
        "    Dense(32, activation='relu'),\n",
        "    Dropout(0.5),\n",
        "    Dense(3, activation='softmax')  # Softmax for multi-class classification\n",
        "])\n",
        "\n",
        "model.compile(optimizer='adam', loss='categorical_crossentropy', metrics=['accuracy'])\n",
        "\n",
        "# Train the model with class weights\n",
        "epochs = 10  # Increase epochs for better training\n",
        "batch_size = 32\n",
        "history = model.fit(X_train, y_train, epochs=epochs, batch_size=batch_size, validation_data=(X_val, y_val), class_weight=class_weights_dict)\n",
        "\n",
        "# Evaluate model on validation set\n",
        "y_val_pred_prob = model.predict(X_val)\n",
        "y_val_pred = np.argmax(y_val_pred_prob, axis=1)  # Convert probabilities to class predictions\n",
        "y_val_true = np.argmax(y_val, axis=1)  # Convert one-hot encoded labels to class numbers\n",
        "print(\"Validation Accuracy:\", accuracy_score(y_val_true, y_val_pred))\n",
        "print(\"\\nClassification Report on Validation Set:\\n\", classification_report(y_val_true, y_val_pred, target_names=[\"Negative\", \"Neutral\", \"Positive\"]))\n",
        "\n",
        "# Load the separate test data (only has \"Review\" column)\n",
        "test_data = pd.read_excel('/content/drive/MyDrive/Machine Learning/Competitions/car_review_sentiment/input/Test_features.xlsx')  # Replace with the path to your test data .xlsx file\n",
        "test_data = test_data.dropna()  # Remove rows with missing values\n",
        "test_texts = test_data['Review'].astype(str).values  # Extract reviews\n",
        "\n",
        "# Preprocess the test data\n",
        "test_sequences = tokenizer.texts_to_sequences(test_texts)\n",
        "padded_test_sequences = pad_sequences(test_sequences, maxlen=max_len, padding='post', truncating='post')\n",
        "\n",
        "# Predict on the test set\n",
        "y_pred_prob = model.predict(padded_test_sequences)\n",
        "y_pred = np.argmax(y_pred_prob, axis=1)  # Convert probabilities to class predictions\n",
        "\n",
        "# Save predictions to CSV with review and predicted target\n",
        "predictions_save_path = '/content/drive/MyDrive/Machine Learning/Competitions/car_review_sentiment/predictions.csv'  # Replace with desired save path\n",
        "predictions_df = pd.DataFrame({'Review': test_texts, 'Predicted Label': y_pred})\n",
        "predictions_df.to_csv(predictions_save_path, index=False)\n",
        "\n",
        "print(f\"Predictions saved to {predictions_save_path}\")\n"
      ]
    },
    {
      "cell_type": "code",
      "source": [
        "from google.colab import drive\n",
        "drive.mount('/content/drive')"
      ],
      "metadata": {
        "id": "F0iBHE3KJAAc"
      },
      "execution_count": null,
      "outputs": []
    }
  ]
}